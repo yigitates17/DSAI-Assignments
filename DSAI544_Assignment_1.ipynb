{
  "nbformat": 4,
  "nbformat_minor": 0,
  "metadata": {
    "colab": {
      "provenance": [],
      "gpuType": "T4",
      "include_colab_link": true
    },
    "kernelspec": {
      "name": "python3",
      "display_name": "Python 3"
    },
    "language_info": {
      "name": "python"
    },
    "accelerator": "GPU"
  },
  "cells": [
    {
      "cell_type": "markdown",
      "metadata": {
        "id": "view-in-github",
        "colab_type": "text"
      },
      "source": [
        "<a href=\"https://colab.research.google.com/github/yigitates17/DSAI-Assignments/blob/main/DSAI544_Assignment_1.ipynb\" target=\"_parent\"><img src=\"https://colab.research.google.com/assets/colab-badge.svg\" alt=\"Open In Colab\"/></a>"
      ]
    },
    {
      "cell_type": "markdown",
      "source": [
        ">## Assignment 1 - DSAI 544 Computer Vision With Machine Learning\n",
        "\n",
        "\n",
        "\n",
        "\n"
      ],
      "metadata": {
        "id": "88XCmqiORe87"
      }
    },
    {
      "cell_type": "markdown",
      "source": [
        ">Student's Name: *WRITE YOUR NAME HERE*"
      ],
      "metadata": {
        "id": "_fDuka2Ua1Ov"
      }
    },
    {
      "cell_type": "markdown",
      "source": [
        "* The full assignment is worth 15 points in total. Please write your answers within the correct exercise sections.\n",
        "* Please sumbit your .ipynb file to Moodle before due time.\n",
        "* Files should be named in the following format: DSAI544 Assignment 1 Name Surname\n",
        "* You must run your code, the outputs (especially from test codes) will be important in the grading process. There are somes codes to test your code, use them to test your solution, and make sure to keep those codes and their printouts."
      ],
      "metadata": {
        "id": "BKB2kpA-a1x4"
      }
    },
    {
      "cell_type": "code",
      "source": [
        "import numpy as np\n",
        "import torch\n",
        "from torch import nn\n",
        "from torch.utils.data import DataLoader, random_split\n",
        "from torch.nn import functional as F\n",
        "import torchvision\n",
        "from torchvision.datasets import MNIST\n",
        "from torchvision import datasets, transforms\n",
        "import os\n",
        "import matplotlib.pyplot as plt"
      ],
      "metadata": {
        "id": "AXqZxL_quzVU"
      },
      "execution_count": null,
      "outputs": []
    },
    {
      "cell_type": "code",
      "source": [
        "transform = transforms.Compose(\n",
        "    [\n",
        "    transforms.RandomHorizontalFlip(0.5),\n",
        "    transforms.ColorJitter(0.2,0.2,0.2),\n",
        "    transforms.ToTensor(),\n",
        "    transforms.Normalize((0.4914, 0.4822, 0.4465), (0.2470, 0.2435, 0.2616)),\n",
        "    ])\n",
        "test_transform = transforms.Compose(\n",
        "    [transforms.ToTensor(),\n",
        "    transforms.Normalize((0.4914, 0.4822, 0.4465), (0.2470, 0.2435, 0.2616))])\n",
        "cifar10 = torchvision.datasets.CIFAR10(root='./data', download=True, train=True, transform=transform)\n",
        "cifar10_test = torchvision.datasets.CIFAR10(root='./data', download=True, train=False, transform=test_transform)\n",
        "\n",
        "batch_size = 32\n",
        "n = batch_size\n",
        "dataloader = DataLoader(cifar10, batch_size=batch_size, shuffle=True, num_workers=2)\n",
        "dataloader_test = DataLoader(cifar10_test, batch_size=batch_size, shuffle=False, num_workers=2)"
      ],
      "metadata": {
        "colab": {
          "base_uri": "https://localhost:8080/"
        },
        "id": "NHXxqvUNzx1b",
        "outputId": "5b2bcf4d-596c-47d2-b4c8-d5c5964f34c0"
      },
      "execution_count": null,
      "outputs": [
        {
          "output_type": "stream",
          "name": "stdout",
          "text": [
            "Downloading https://www.cs.toronto.edu/~kriz/cifar-10-python.tar.gz to ./data/cifar-10-python.tar.gz\n"
          ]
        },
        {
          "output_type": "stream",
          "name": "stderr",
          "text": [
            "100%|██████████| 170498071/170498071 [00:12<00:00, 13606761.52it/s]\n"
          ]
        },
        {
          "output_type": "stream",
          "name": "stdout",
          "text": [
            "Extracting ./data/cifar-10-python.tar.gz to ./data\n",
            "Files already downloaded and verified\n"
          ]
        }
      ]
    },
    {
      "cell_type": "markdown",
      "source": [
        "## Backprop Your Own Gradients\n",
        "\n",
        "In this section you will backprop your gradients through a loss function. Below you fill find an implementation of a loss function in multiple steps, an integrated loss function implementation and finally a partial implementation of an autograd function.\n",
        "\n",
        "Your taks is to implement the backward passes for these functions and verify that your implementation is correct. This section will teach you how to write your own custom differentiable loss function and how to implement it in a way that fits in with standard pytorch classes."
      ],
      "metadata": {
        "id": "qQLdDUBfjviL"
      }
    },
    {
      "cell_type": "code",
      "source": [
        "# utility function we will use later when comparing manual gradients to PyTorch gradients\n",
        "def compare(s, dt, t):\n",
        "  ex = torch.all(dt == t.grad).item()\n",
        "  app = torch.allclose(dt, t.grad)\n",
        "  maxdiff = (dt - t.grad).abs().max().item()\n",
        "  print(f'{s:15s} | exact: {str(ex):5s} | approximate: {str(app):5s} | maxdiff: {maxdiff}')"
      ],
      "metadata": {
        "id": "NqO6_RIHDN4t"
      },
      "execution_count": null,
      "outputs": []
    },
    {
      "cell_type": "code",
      "source": [
        "model = nn.Sequential(\n",
        "    # Conv2d( in_channels, out_channels, kernel_size) B,3,32,32\n",
        "    nn.Conv2d(3, 32, 3, stride= 2, padding=1),  nn.BatchNorm2d(32), nn.Tanh(), # B,32,16,16\n",
        "    nn.Conv2d(32, 64, 3, stride= 2, padding=1), nn.BatchNorm2d(64), nn.Tanh(), # B,32,8,8\n",
        "    nn.Conv2d(64, 128, 3, stride= 2, padding=1), nn.BatchNorm2d(128), nn.Tanh(), # B,32,4,4\n",
        "    nn.Flatten(),\n",
        "    nn.Linear(4*4*128, 64), nn.BatchNorm1d(64), nn.Tanh(),\n",
        "    nn.Linear(64, 10)\n",
        ")\n",
        "\n",
        "optim = torch.optim.SGD(model.parameters(), lr=0.01, momentum=0.9, weight_decay=0.00001)"
      ],
      "metadata": {
        "id": "w6lySAvoADfT"
      },
      "execution_count": null,
      "outputs": []
    },
    {
      "cell_type": "code",
      "source": [
        "batch = next(iter(dataloader))\n",
        "x = batch[0]\n",
        "y = batch[1]\n",
        "\n",
        "logits = model(x)"
      ],
      "metadata": {
        "id": "2W5wMnY7Cluv"
      },
      "execution_count": null,
      "outputs": []
    },
    {
      "cell_type": "markdown",
      "source": [
        "### **Exercise 1: Writing backward pass**\n",
        "\n",
        "*4 Points*\n",
        "\n",
        "Backprop through the loss function manually, backpropagating through exactly all of the variables as they are defined in the forward pass below, one by one starting from the end and propagating to the beginning.\n",
        "\n",
        "I have included notes and clues that will help you in backpropogation. Keep in mind that a derrivative for a variable should be the same shape as the orignal variable. Remember that if there is a broadcast operation in the forward pass you need to have a summing operation in the backward pass and if there is a summation in the forward pass you need to have a broadcast operation in the backward pass."
      ],
      "metadata": {
        "id": "YfBB_PLPTnoV"
      }
    },
    {
      "cell_type": "code",
      "source": [
        "logit_maxes = logits.max(1, keepdim=True).values\n",
        "norm_logits = logits - logit_maxes # subtract max for numerical stability\n",
        "counts = norm_logits.exp()\n",
        "counts_sum = counts.sum(1, keepdims=True)\n",
        "counts_sum_inv = counts_sum**-1\n",
        "probs = counts * counts_sum_inv\n",
        "logprobs = probs.log()\n",
        "loss = -logprobs[range(n), y].mean()\n",
        "\n",
        "for t in [logprobs, probs, counts, counts_sum, counts_sum_inv,\n",
        "          norm_logits, logit_maxes, logits]:\n",
        "  t.retain_grad()\n",
        "\n",
        "optim.zero_grad()\n",
        "loss.backward()\n",
        "loss"
      ],
      "metadata": {
        "colab": {
          "base_uri": "https://localhost:8080/"
        },
        "id": "RAB9HnAsB54-",
        "outputId": "192b4b0c-2532-4dad-b450-f5e065c9dff1"
      },
      "execution_count": null,
      "outputs": [
        {
          "output_type": "execute_result",
          "data": {
            "text/plain": [
              "tensor(2.5485, grad_fn=<NegBackward0>)"
            ]
          },
          "metadata": {},
          "execution_count": 6
        }
      ]
    },
    {
      "cell_type": "code",
      "source": [
        "# ----------------------\n",
        "# Write your answer here\n",
        "\n",
        "# You should consider which parts of the logprops is affecting the loss\n",
        "# Only backpropagate the gradients to those elements\n",
        "dlogprobs = torch.zeros_like(logprobs)\n",
        "dlogprobs[range(n), y] = -1.0/n * 1\n",
        "\n",
        "# d/dx(log(x))= 1/x\n",
        "dprobs = (1/probs) * dlogprobs\n",
        "\n",
        "# Broadcasing in forward means summation in backward\n",
        "dcounts_sum_inv = None\n",
        "\n",
        "# d/dx(1/x) = -x**-2\n",
        "dcounts_sum = None\n",
        "\n",
        "# Remember that there are counts is used both for counts_sum and probs\n",
        "# so it should have 2 additive contributions\n",
        "# Remember that summation in forward pass is broadcasting in backward pass\n",
        "dcounts = None\n",
        "\n",
        "# d/dx(e^x)= e^x\n",
        "dnorm_logits = None\n",
        "\n",
        "# d/dx(-x)= -1 and broadcasing in forward means summation in backward\n",
        "dlogit_maxes = None\n",
        "\n",
        "# Remember that there are counts is used both for logit_maxes and norm_logits\n",
        "# so it should have 2 additive contributions\n",
        "# For the first component remember d/dx(x)= 1\n",
        "# For the second component remember to only affect the indices have max values\n",
        "dlogits = None\n",
        "# ----------------------\n",
        "\n",
        "#YOU WILL USE THE COMPARE FUNCTIONS BELOW TO SEE IF YOU HAVE THE CORRECT SOLUTION OR NOT\n",
        "#ALSO THEY WILL BE USED IN THE GRADING PROCESS, RUN THEM ALL AND KEEP THEIR PRINTOUTS\n",
        "compare('logprobs', dlogprobs, logprobs)\n",
        "compare('probs', dprobs, probs)\n",
        "#compare('counts_sum_inv', dcounts_sum_inv, counts_sum_inv)\n",
        "#compare('counts_sum', dcounts_sum, counts_sum)\n",
        "#compare('counts', dcounts, counts)\n",
        "#compare('norm_logits', dnorm_logits, norm_logits)\n",
        "#compare('logit_maxes', dlogit_maxes, logit_maxes)\n",
        "#compare('logits', dlogits, logits)"
      ],
      "metadata": {
        "colab": {
          "base_uri": "https://localhost:8080/"
        },
        "id": "0Mo-J0l3C_ZR",
        "outputId": "1b556a5d-2510-4bd2-fb97-e6f5a2813933"
      },
      "execution_count": null,
      "outputs": [
        {
          "output_type": "stream",
          "name": "stdout",
          "text": [
            "logprobs        | exact: True  | approximate: True  | maxdiff: 0.0\n",
            "probs           | exact: True  | approximate: True  | maxdiff: 0.0\n"
          ]
        }
      ]
    },
    {
      "cell_type": "markdown",
      "source": [
        "### **Exercise 2: Simplifying Cross-Entropy Expression**\n",
        "\n",
        "*2 points*\n",
        "\n",
        "Backprop through cross_entropy function in one step. Look at the mathematical expression for cross entropy $-\\sum_{c=1}^{10}y_{c}\\log(p_c)$, calculate the derivative analytically (with pen and paper) and finally write down the simplified expression for the backpropagation calculation.\n",
        "\n",
        "Remember that in order to convert the logits into propabilities $p$ we need to take the softmax. Since the labels are one-hot only the labels that are correct are going to affect the final loss $L$ and the expression for cross entropy can be simplified to\n",
        "$L=-log(\\frac{e^{logit_y}}{\\sum_{j}e^{logit_j}})$.\n",
        "\n",
        "Take the derivative of the loss with respect to the each dimension of the logit $logit_i$. Remember that you can simplify the experssion by considering two cases. One where $i=y$ and one where $i\\neq y$.\n",
        "\n",
        "Finally remember that we are calculating the loss over the batches and we need to average the losses over the batch dimension (i.e. divide by batch_size)\n",
        "\n",
        "Note: Your answer don't have to produce the exactly same result as the Pytorch implementation you can get an approximately correct version that has less max difference than 1e-8."
      ],
      "metadata": {
        "id": "VI24jdZ8Rrj1"
      }
    },
    {
      "cell_type": "code",
      "source": [
        "# forward pass\n",
        "\n",
        "# before:\n",
        "# logit_maxes = logits.max(1, keepdim=True).values\n",
        "# norm_logits = logits - logit_maxes # subtract max for numerical stability\n",
        "# counts = norm_logits.exp()\n",
        "# counts_sum = counts.sum(1, keepdims=True)\n",
        "# counts_sum_inv = counts_sum**-1 # if I use (1.0 / counts_sum)\n",
        "# probs = counts * counts_sum_inv\n",
        "# logprobs = probs.log()\n",
        "# loss = -logprobs[range(n), Yb].mean()\n",
        "\n",
        "# now:\n",
        "loss_fast = F.cross_entropy(logits, y)\n",
        "print(loss_fast.item(), 'diff:', (loss_fast - loss).item())"
      ],
      "metadata": {
        "id": "WEvmtpMPCG-J",
        "colab": {
          "base_uri": "https://localhost:8080/"
        },
        "outputId": "6891bf1a-81d0-473f-98f7-33adb5a72b4d"
      },
      "execution_count": null,
      "outputs": [
        {
          "output_type": "stream",
          "name": "stdout",
          "text": [
            "2.3596858978271484 diff: -2.384185791015625e-07\n"
          ]
        }
      ]
    },
    {
      "cell_type": "code",
      "source": [
        "# ----------------------\n",
        "# Write your answer here\n",
        "\n",
        "dlogits = None\n",
        "\n",
        "# ----------------------\n",
        "#THE CODE BELOW AND IT'S OUTPUT WILL BE USED IN THE GRADING PROCESS\n",
        "#USE IT TO TEST YOUR SOLUTION\n",
        "compare('logits', dlogits, logits) # It is ok to get approximate correctness, 1e-8 is OK"
      ],
      "metadata": {
        "colab": {
          "base_uri": "https://localhost:8080/"
        },
        "id": "2nGWgdUYE5jV",
        "outputId": "531732b2-8d12-4154-bca9-c4558dbe9a6d"
      },
      "execution_count": null,
      "outputs": [
        {
          "output_type": "stream",
          "name": "stdout",
          "text": [
            "logits          | exact: False | approximate: True  | maxdiff: 5.587935447692871e-09\n"
          ]
        }
      ]
    },
    {
      "cell_type": "markdown",
      "source": [
        "### **Exercise 3: Defining new Autograd function**\n",
        "\n",
        "*2 points*\n",
        "\n",
        "Now use your solution from the previous step to write a custom autograd Function. You can take a look at the [documententation](https://pytorch.org/tutorials/beginner/examples_autograd/two_layer_net_custom_function.html) for autograd functions in order to get a clearer idea.\n",
        "\n",
        "For the forward pass we have already provided the implementation steps. You don't need to backpropagate the loss with respect to the labels they are return with None in the template\n",
        "\n"
      ],
      "metadata": {
        "id": "cY5lvvVnRVO9"
      }
    },
    {
      "cell_type": "code",
      "source": [
        "class CustomCrossEntropy(torch.autograd.Function):\n",
        "    \"\"\"\n",
        "    We can implement our own custom autograd Functions by subclassing\n",
        "    torch.autograd.Function and implementing the forward and backward passes\n",
        "    which operate on Tensors.\n",
        "    \"\"\"\n",
        "\n",
        "    @staticmethod\n",
        "    def forward(ctx, logits, y):\n",
        "        \"\"\"CustomCrossEntropy.apply\n",
        "        Here we save the elements necessary for calculating the backward pass.\n",
        "        We than use the efficient expression for the backward pass.\n",
        "        \"\"\"\n",
        "        ctx.save_for_backward(logits, y)\n",
        "        return F.cross_entropy(logits, y)\n",
        "\n",
        "    @staticmethod\n",
        "    def backward(ctx, grad_output):\n",
        "        \"\"\"\n",
        "        In the backward pass we receive a Tensor containing the gradient of the loss\n",
        "        with respect to the output, and we need to compute the gradient of the loss\n",
        "        with respect to the input.\n",
        "        We first load the tensors that we have saved before\n",
        "        Calculate the local derivative and backpropagate it by multiplying the upstream\n",
        "        derivative with the local derivative. You don't need to backpropagate the gradient\n",
        "        for y and return None since we expect it to be a fixed value.\n",
        "        \"\"\"\n",
        "        logits, y, = ctx.saved_tensors\n",
        "\n",
        "        # ----------------------\n",
        "        # Write your answer here\n",
        "\n",
        "        return ???, None\n",
        "        # ----------------------"
      ],
      "metadata": {
        "id": "DiiaAPn2FNqb"
      },
      "execution_count": null,
      "outputs": []
    },
    {
      "cell_type": "markdown",
      "source": [
        "Below is a check for you to make sure that your code has been implemented correctly."
      ],
      "metadata": {
        "id": "2gVr_fYdV4Cr"
      }
    },
    {
      "cell_type": "code",
      "source": [
        "#THE CODE BELOW AND IT'S OUTPUT WILL BE USED IN THE GRADING PROCESS\n",
        "#USE IT TO TEST YOUR SOLUTION\n",
        "batch = next(iter(dataloader))\n",
        "x = batch[0]\n",
        "y = batch[1]\n",
        "\n",
        "# Calculate loss and gradients using Pytorch CrossEntropy method\n",
        "logits = model(x)\n",
        "loss = F.cross_entropy(logits, y)\n",
        "\n",
        "logits.retain_grad()\n",
        "\n",
        "optim.zero_grad()\n",
        "loss.backward()\n",
        "\n",
        "pytorch_logits_grad = logits.grad\n",
        "\n",
        "print(\"pytorch cross entropy loss: \",loss)\n",
        "\n",
        "# Calculate loss using new CustomCrossEntropy method\n",
        "logits = model(x)\n",
        "loss_fn = CustomCrossEntropy.apply\n",
        "loss = loss_fn(logits, y)\n",
        "\n",
        "logits.retain_grad()\n",
        "\n",
        "optim.zero_grad()\n",
        "loss.backward()\n",
        "\n",
        "custom_logits_grad = logits.grad\n",
        "print(\"custom cross entropy loss: \",loss)\n",
        "\n",
        "torch.allclose(custom_logits_grad, pytorch_logits_grad)"
      ],
      "metadata": {
        "colab": {
          "base_uri": "https://localhost:8080/"
        },
        "id": "tb7roiWJKvgn",
        "outputId": "dcd1a1be-9be6-4b27-897d-8648e16ab0e3"
      },
      "execution_count": null,
      "outputs": [
        {
          "output_type": "stream",
          "name": "stdout",
          "text": [
            "pytorch cross entropy loss:  tensor(2.3533, grad_fn=<NllLossBackward0>)\n",
            "custom cross entropy loss:  tensor(2.3533, grad_fn=<CustomCrossEntropyBackward>)\n"
          ]
        },
        {
          "output_type": "execute_result",
          "data": {
            "text/plain": [
              "True"
            ]
          },
          "metadata": {},
          "execution_count": 13
        }
      ]
    },
    {
      "cell_type": "markdown",
      "source": [
        "## Exercise 3b — Debug Softmax + Cross-Entropy (Forward & Backward)\n",
        "\n",
        "*2 points*\n",
        "\n",
        "**Goal:** Fix a deliberately wrong implementation of **softmax + cross-entropy** so that:\n",
        "1) it’s numerically stable  \n",
        "2) the reduction in forward matches the scaling in backward  \n",
        "3) your manual gradient w.r.t. logits matches PyTorch autograd.\n",
        "\n",
        "**What’s wrong down below?**\n",
        "\n",
        "The forward and backward procedures (`almost_correct_ce_forward()` & `almost_correct_ce_backward()`) of a loss function is designed by some beginner PyTorch enthusiast 😎 However he has done a little mistake in his definitions.   \n",
        "The procedure is as follows:\n",
        "- computed the loss via `softmax` + `-log(...)` (unstable),  \n",
        "- took a **sum** in the forward, but divided by **N** in the backward (mismatch),  \n",
        "- skipped using `log_softmax`.\n",
        "\n",
        "**What is **your** task?**\n",
        "- Replace the wrong forward/backward with a correct, stable formulation using `log_softmax`.\n",
        "- Ensure the forward reduction (e.g., `\"mean\"`) matches the gradient scaling.\n",
        "- Pass the unit tests that compare your manual gradient to `torch.nn.functional.cross_entropy`.\n",
        "\n",
        "### Hints\n",
        "\n",
        "- Correct logits-gradient for Cross-Entropy with softmax (mean reduction) is:\n",
        "\n",
        "    dL/dz = (p − one_hot(y)) / N\n",
        "\n",
        "    where:\n",
        "    \n",
        "    • p = softmax(z)\n",
        "\n",
        "    • z = logits\n",
        "\n",
        "    • y = target class index\n",
        "\n",
        "    • N = batch size\n",
        "\n",
        "- Use the stable version of log-softmax to compute the loss:\n",
        "\n",
        "    log_probs = F.log_softmax(logits, dim=1)\n",
        "\n",
        "- Don't forget:\n",
        "\n",
        "    • If you use \"sum\" reduction → do NOT divide the gradient by N  \n",
        "\n",
        "    • If you use \"mean\" reduction → do divide the gradient by N  \n",
        "\n"
      ],
      "metadata": {
        "id": "hR8rqoR0q2RN"
      }
    },
    {
      "cell_type": "code",
      "source": [
        "# Wrongly Written Reference (DO NOT MODIFY HERE)\n",
        "# ------------------------------------------------------------\n",
        "def almost_correct_ce_forward(logits: torch.Tensor, targets: torch.Tensor, reduction: str = \"mean\") -> torch.Tensor:\n",
        "    \"\"\"\n",
        "      - uses softmax + log, not log_softmax (numerical issues)\n",
        "      - uses SUM reduction regardless, then the \"reduction\" arg is half-respected\n",
        "    \"\"\"\n",
        "    N, C = logits.shape\n",
        "    probs = torch.softmax(logits, dim=1)  # unstable when logits have large magnitude\n",
        "    nll = -torch.log(probs[torch.arange(N), targets] + 1e-12)  # add eps, but still poor stability\n",
        "    if reduction == \"none\":\n",
        "        return nll\n",
        "    elif reduction == \"mean\":\n",
        "        return nll.sum()\n",
        "    elif reduction == \"sum\":\n",
        "        return nll.sum()\n",
        "    else:\n",
        "        raise ValueError(\"reduction must be 'none' | 'mean' | 'sum'\")\n",
        "\n",
        "def almost_correct_ce_backward(logits: torch.Tensor, targets: torch.Tensor, reduction: str = \"mean\") -> torch.Tensor:\n",
        "    \"\"\"\n",
        "      - gradient formula assumes mean reduction (divides by N),\n",
        "        even if forward did .sum()\n",
        "    \"\"\"\n",
        "    N, C = logits.shape\n",
        "    probs = torch.softmax(logits, dim=1)\n",
        "    grad = probs.clone()\n",
        "    grad[torch.arange(N), targets] -= 1.0\n",
        "    if reduction == \"none\":\n",
        "        grad = grad / N\n",
        "    elif reduction == \"mean\":\n",
        "        grad = grad / N\n",
        "    elif reduction == \"sum\":\n",
        "        grad = grad / N\n",
        "    return grad\n"
      ],
      "metadata": {
        "id": "sGy6pfNmrYCK"
      },
      "execution_count": null,
      "outputs": []
    },
    {
      "cell_type": "markdown",
      "source": [
        "Now please implement your fix:"
      ],
      "metadata": {
        "id": "wHKHKdcErYZo"
      }
    },
    {
      "cell_type": "code",
      "source": [
        "# Your fix: Implement a numerically stable CE\n",
        "# ------------------------------------------------------------\n",
        "def my_ce_forward(logits: torch.Tensor, targets: torch.Tensor, reduction: str = \"mean\") -> torch.Tensor:\n",
        "\"\"\"\n",
        "\"\"\"\n",
        "    # ======= YOUR CODE STARTS HERE =======\n",
        "\n",
        "    # ======= YOUR CODE ENDS HERE =======\n",
        "\n",
        "\n",
        "def my_ce_backward(logits: torch.Tensor, targets: torch.Tensor, reduction: str = \"mean\") -> torch.Tensor:\n",
        "\"\"\"\n",
        "\"\"\"\n",
        "    # ======= YOUR CODE STARTS HERE =======\n",
        "\n",
        "    # ======= YOUR CODE ENDS HERE =======\n"
      ],
      "metadata": {
        "id": "zcbCCCVgrYlH"
      },
      "execution_count": null,
      "outputs": []
    },
    {
      "cell_type": "markdown",
      "source": [
        "Now test your fix please:"
      ],
      "metadata": {
        "id": "qxDWo-FgyHa1"
      }
    },
    {
      "cell_type": "code",
      "source": [
        "# Unit tests: Compare to PyTorch's F.cross_entropy\n",
        "# ------------------------------------------------------------\n",
        "def check_grad_match(reduction: str = \"mean\", seed: int = 7, verbose=True):\n",
        "    torch.manual_seed(seed)\n",
        "    N, C = 8, 5\n",
        "    logits = torch.randn(N, C, requires_grad=True)\n",
        "    targets = torch.randint(0, C, (N,))\n",
        "\n",
        "    # PyTorch reference\n",
        "    ref_loss = F.cross_entropy(logits, targets, reduction=reduction)\n",
        "    # Provide a gradient tensor for non-scalar outputs\n",
        "    grad_tensor = torch.ones_like(ref_loss) if reduction == \"none\" else None\n",
        "    ref_loss.backward(gradient=grad_tensor)\n",
        "    ref_grad = logits.grad.detach().clone()\n",
        "\n",
        "    # Your manual grad (ensure fresh graph/grad)\n",
        "    logits2 = logits.detach().clone().requires_grad_(True)\n",
        "    my_loss = my_ce_forward(logits2, targets, reduction=reduction)\n",
        "    # Backward using our manual gradient injection (stop autograd, compare tensors)\n",
        "    manual_grad = my_ce_backward(logits2.detach(), targets, reduction=reduction)\n",
        "    # Check shape & finite\n",
        "    assert manual_grad.shape == logits2.shape and torch.isfinite(manual_grad).all(), \"Manual grad invalid.\"\n",
        "    # Compare with autograd's grad for the SAME forward loss\n",
        "    # (Call backward on logits2 with manual grad like a hook equivalence)\n",
        "    logits2.backward(manual_grad, retain_graph=False)  # gradient injection\n",
        "    my_grad = logits2.grad.detach().clone()\n",
        "\n",
        "    # Because CE is convex in logits, the true grad of CE wrt logits equals (softmax - one_hot)/reduction\n",
        "    # We compare derived grads numerically:\n",
        "    mae = (my_grad - ref_grad).abs().mean().item()\n",
        "    if verbose:\n",
        "        print(f\"[reduction={reduction}] mean |Δgrad| vs PyTorch autograd: {mae:.6e}\")\n",
        "    assert mae < 1e-6, f\"Gradient mismatch too large (MAE={mae}); fix your forward/backward.\"\n",
        "\n",
        "    # Compare loss values too\n",
        "    with torch.no_grad():\n",
        "        l_ref = ref_loss.item() if reduction != \"none\" else ref_loss.mean().item()\n",
        "        l_stu = my_ce_forward(logits.detach(), targets, reduction=reduction).item() if reduction != \"none\" else my_ce_forward(logits.detach(), targets, reduction=reduction).mean().item()\n",
        "    if verbose:\n",
        "        print(f\"[reduction={reduction}] ref_loss={l_ref:.6f}  my_loss={l_stu:.6f}\")\n",
        "    assert abs(l_ref - l_stu) < 1e-6, \"Loss value mismatch; check your forward reduction/stability.\"\n",
        "\n",
        "# Expect these to PASS after you fix student_ce_forward/backward:\n",
        "for red in [\"none\", \"mean\", \"sum\"]:\n",
        "    check_grad_match(reduction=red)\n",
        "print(\"All reductions matched autograd.\")"
      ],
      "metadata": {
        "colab": {
          "base_uri": "https://localhost:8080/"
        },
        "id": "anW5nIuwyGN0",
        "outputId": "cbb76c2c-8cee-4306-9086-715323d2afa7"
      },
      "execution_count": null,
      "outputs": [
        {
          "output_type": "stream",
          "name": "stdout",
          "text": [
            "[reduction=none] mean |Δgrad| vs PyTorch autograd: 6.821938e-09\n",
            "[reduction=none] ref_loss=1.746523  my_loss=1.746523\n",
            "[reduction=mean] mean |Δgrad| vs PyTorch autograd: 8.527422e-10\n",
            "[reduction=mean] ref_loss=1.746523  my_loss=1.746523\n",
            "[reduction=sum] mean |Δgrad| vs PyTorch autograd: 6.821938e-09\n",
            "[reduction=sum] ref_loss=13.972184  my_loss=13.972184\n",
            "All reductions matched autograd.\n"
          ]
        }
      ]
    },
    {
      "cell_type": "markdown",
      "source": [
        "***Expected output:***\n",
        "\n",
        "[reduction=none] mean |Δgrad| vs PyTorch autograd: 6.821938e-09\n",
        "\n",
        "[reduction=none] ref_loss=1.746523  my_loss=1.746523\n",
        "\n",
        "[reduction=mean] mean |Δgrad| vs PyTorch autograd: 8.527422e-10\n",
        "\n",
        "[reduction=mean] ref_loss=1.746523  my_loss=1.746523\n",
        "\n",
        "[reduction=sum] mean |Δgrad| vs PyTorch autograd: 6.821938e-09\n",
        "\n",
        "[reduction=sum] ref_loss=13.972184  my_loss=13.972184\n",
        "\n",
        "All reductions matched autograd."
      ],
      "metadata": {
        "id": "Hr-ZHCOczxtt"
      }
    },
    {
      "cell_type": "markdown",
      "source": [
        "## Architecture Optimization"
      ],
      "metadata": {
        "id": "HQsQxafxB6S5"
      }
    },
    {
      "cell_type": "markdown",
      "source": [
        "### **Exercise 4: Convolutional Architecture**\n",
        "\n",
        "*5 points*\n",
        "\n",
        "Below you find the model definition for a Convolutional neural network. Your task is to optimize the network architecture below to improve the model performance. **The minimum criteria for success is %85 validation accuracy.** Please share your training setup including your architecture and any other modifications you have made on the discussion section opened on Moodle. **Three students who has the highest accuracy among you will get 2 extra points to their final course score.**\n",
        "\n",
        "You are free to use other components like MaxPool2d, Dropout and ReLU from torch.nn library. Please remember the architectural innovations and regularization methods mentioned in the class and try to emulate them here. You can also change augmentation, learning rate schedulers and optimization methods as you like. **Don't use predefined models (such as ResNet, VGG etc.) right away but you can reimplement them yourselves**.\n",
        "\n",
        "You can define blocks and bottleneck layers to define your architecture."
      ],
      "metadata": {
        "id": "ULbDrbvuUYbn"
      }
    },
    {
      "cell_type": "code",
      "source": [
        "model = nn.Sequential(\n",
        "    # Conv2d( in_channels, out_channels, kernel_size) B,3,32,32\n",
        "    nn.Conv2d(3, 32, 3, stride= 2, padding=1),  nn.BatchNorm2d(32), nn.Tanh(), # B,32,16,16\n",
        "    nn.Conv2d(32, 64, 3, stride= 2, padding=1), nn.BatchNorm2d(64), nn.Tanh(), # B,32,8,8\n",
        "    nn.Conv2d(64, 128, 3, stride= 2, padding=1), nn.BatchNorm2d(128), nn.Tanh(), # B,32,4,4\n",
        "    nn.Flatten(),\n",
        "    nn.Linear(4*4*128, 64), nn.BatchNorm1d(64), nn.Tanh(),\n",
        "    nn.Linear(64, 10)\n",
        ")\n",
        "\n",
        "optim = torch.optim.SGD(model.parameters(), lr=0.01, momentum=0.9, weight_decay=0.00001)"
      ],
      "metadata": {
        "id": "8KuMxXYAL2jN"
      },
      "execution_count": null,
      "outputs": []
    },
    {
      "cell_type": "code",
      "source": [
        "i = 0\n",
        "losses = []\n",
        "steps = []\n",
        "losses_t = []\n",
        "\n",
        "lre = torch.linspace(-1, 4, 1000)\n",
        "lrs = 10**lre"
      ],
      "metadata": {
        "id": "BqfvcvXjAKWl"
      },
      "execution_count": null,
      "outputs": []
    },
    {
      "cell_type": "code",
      "source": [
        "for epoch in range(16):\n",
        "  for batch in dataloader:\n",
        "    i +=1\n",
        "    x = batch[0].to('cuda')\n",
        "    y = batch[1].to('cuda')\n",
        "    model = model.to('cuda')\n",
        "\n",
        "    logits = model(x)\n",
        "    loss = F.cross_entropy(logits,y)\n",
        "    optim.zero_grad()\n",
        "\n",
        "    loss.backward()\n",
        "\n",
        "    # optim.lr =  0.01 if i < 10000 else 0.001\n",
        "    optim.param_groups[0]['lr'] = 0.01 if i < 10000 else 0.001\n",
        "    # optim.lr = lrs[i]\n",
        "    optim.step()\n",
        "\n",
        "    losses.append(loss.item())\n",
        "    losses_t.append(loss.detach())\n",
        "    steps.append(i)\n",
        "\n",
        "    if i % 1000 ==0:\n",
        "      print(loss)"
      ],
      "metadata": {
        "colab": {
          "base_uri": "https://localhost:8080/"
        },
        "id": "CvGLf457AL5b",
        "outputId": "2db04b38-984d-413b-c35a-6bdb122ab23b"
      },
      "execution_count": null,
      "outputs": [
        {
          "output_type": "stream",
          "name": "stdout",
          "text": [
            "tensor(1.7877, device='cuda:0', grad_fn=<NllLossBackward0>)\n",
            "tensor(1.3352, device='cuda:0', grad_fn=<NllLossBackward0>)\n",
            "tensor(1.3915, device='cuda:0', grad_fn=<NllLossBackward0>)\n",
            "tensor(1.5391, device='cuda:0', grad_fn=<NllLossBackward0>)\n",
            "tensor(1.1766, device='cuda:0', grad_fn=<NllLossBackward0>)\n",
            "tensor(1.0968, device='cuda:0', grad_fn=<NllLossBackward0>)\n",
            "tensor(1.1095, device='cuda:0', grad_fn=<NllLossBackward0>)\n",
            "tensor(0.8771, device='cuda:0', grad_fn=<NllLossBackward0>)\n",
            "tensor(0.8672, device='cuda:0', grad_fn=<NllLossBackward0>)\n",
            "tensor(0.7921, device='cuda:0', grad_fn=<NllLossBackward0>)\n",
            "tensor(0.6259, device='cuda:0', grad_fn=<NllLossBackward0>)\n",
            "tensor(1.1581, device='cuda:0', grad_fn=<NllLossBackward0>)\n",
            "tensor(0.5354, device='cuda:0', grad_fn=<NllLossBackward0>)\n",
            "tensor(0.8665, device='cuda:0', grad_fn=<NllLossBackward0>)\n",
            "tensor(0.5144, device='cuda:0', grad_fn=<NllLossBackward0>)\n",
            "tensor(0.5785, device='cuda:0', grad_fn=<NllLossBackward0>)\n",
            "tensor(0.6723, device='cuda:0', grad_fn=<NllLossBackward0>)\n",
            "tensor(0.8078, device='cuda:0', grad_fn=<NllLossBackward0>)\n",
            "tensor(0.4927, device='cuda:0', grad_fn=<NllLossBackward0>)\n",
            "tensor(0.4571, device='cuda:0', grad_fn=<NllLossBackward0>)\n",
            "tensor(0.6079, device='cuda:0', grad_fn=<NllLossBackward0>)\n",
            "tensor(0.6072, device='cuda:0', grad_fn=<NllLossBackward0>)\n",
            "tensor(0.6077, device='cuda:0', grad_fn=<NllLossBackward0>)\n",
            "tensor(0.7737, device='cuda:0', grad_fn=<NllLossBackward0>)\n",
            "tensor(0.5613, device='cuda:0', grad_fn=<NllLossBackward0>)\n"
          ]
        }
      ]
    },
    {
      "cell_type": "code",
      "source": [
        "plt.plot(steps, losses) , lrs[650]# , logits"
      ],
      "metadata": {
        "id": "2QXHZi7ub5Tl",
        "colab": {
          "base_uri": "https://localhost:8080/",
          "height": 452
        },
        "outputId": "694537e5-c9f4-402a-eb2d-79e9115a2058"
      },
      "execution_count": null,
      "outputs": [
        {
          "output_type": "execute_result",
          "data": {
            "text/plain": [
              "([<matplotlib.lines.Line2D at 0x7a8f1acdd9c0>], tensor(179.1650))"
            ]
          },
          "metadata": {},
          "execution_count": 17
        },
        {
          "output_type": "display_data",
          "data": {
            "text/plain": [
              "<Figure size 640x480 with 1 Axes>"
            ],
            "image/png": "[encoded data removed]"
          },
          "metadata": {}
        }
      ]
    },
    {
      "cell_type": "code",
      "source": [
        "total_correct = 0\n",
        "total_predictions = 0\n",
        "\n",
        "# Loop over training dataset\n",
        "for x_batch, y_batch in dataloader:\n",
        "    logits = model(x_batch.to(\"cuda\")) # Forward pass on the mini-batch\n",
        "    loss = F.cross_entropy(logits.cpu(), y_batch) # Compute loss\n",
        "\n",
        "    # Calculate predictions for the batch\n",
        "    pred_labels = torch.max(logits, dim=1).indices\n",
        "\n",
        "    # Update total correct predictions and total predictions\n",
        "    total_correct += (y_batch == pred_labels.cpu()).sum().item()\n",
        "    total_predictions += y_batch.size(0)\n",
        "\n",
        "# Calculate overall accuracy\n",
        "overall_accuracy = total_correct / total_predictions\n",
        "print(f\"Training Accuracy: {overall_accuracy}\")"
      ],
      "metadata": {
        "colab": {
          "base_uri": "https://localhost:8080/"
        },
        "id": "BofyymADK1l1",
        "outputId": "9413b6d5-5880-417e-c3d4-4852fe569479"
      },
      "execution_count": null,
      "outputs": [
        {
          "output_type": "stream",
          "name": "stdout",
          "text": [
            "Training Accuracy: 0.76694\n"
          ]
        }
      ]
    },
    {
      "cell_type": "code",
      "source": [
        "total_correct = 0\n",
        "total_predictions = 0\n",
        "\n",
        "# Loop over testing dataset\n",
        "for x_batch, y_batch in dataloader_test:\n",
        "    logits = model(x_batch.to(\"cuda\")) # Forward pass on the mini-batch\n",
        "    loss = F.cross_entropy(logits.cpu(), y_batch) # Compute loss\n",
        "\n",
        "    # Calculate predictions for the batch\n",
        "    pred_labels = torch.max(logits, dim=1).indices\n",
        "\n",
        "    # Update total correct predictions and total predictions\n",
        "    total_correct += (y_batch == pred_labels.cpu()).sum().item()\n",
        "    total_predictions += y_batch.size(0)\n",
        "\n",
        "# Calculate overall accuracy and print it out.\n",
        "overall_accuracy = total_correct / total_predictions\n",
        "#DON'T FORGET TO PRINT OUT YOUR TESTING ACCURACY\n",
        "print(f\"Testting Accuracy: {overall_accuracy}\")"
      ],
      "metadata": {
        "id": "RtEixUxLb54K",
        "colab": {
          "base_uri": "https://localhost:8080/"
        },
        "outputId": "f55b7e3c-0e63-4c11-dc75-7893d88815f9"
      },
      "execution_count": null,
      "outputs": [
        {
          "output_type": "stream",
          "name": "stdout",
          "text": [
            "Testting Accuracy: 0.6974\n"
          ]
        }
      ]
    }
  ]
}